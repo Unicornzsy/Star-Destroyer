{
 "cells": [
  {
   "cell_type": "code",
   "execution_count": 1,
   "metadata": {},
   "outputs": [
    {
     "name": "stdout",
     "output_type": "stream",
     "text": [
      "Populating the interactive namespace from numpy and matplotlib\n"
     ]
    }
   ],
   "source": [
    "%pylab inline"
   ]
  },
  {
   "cell_type": "code",
   "execution_count": 2,
   "metadata": {},
   "outputs": [],
   "source": [
    "from scipy import constants"
   ]
  },
  {
   "cell_type": "code",
   "execution_count": 3,
   "metadata": {},
   "outputs": [],
   "source": [
    "M=2e30\n",
    "L0=3.828e26\n",
    "R=6.957e8\n",
    "Sg=5.69e-8"
   ]
  },
  {
   "cell_type": "code",
   "execution_count": 4,
   "metadata": {},
   "outputs": [],
   "source": [
    "def L(x):\n",
    "    return (x/M)**4*L0"
   ]
  },
  {
   "cell_type": "code",
   "execution_count": 7,
   "metadata": {},
   "outputs": [],
   "source": [
    "def T(x):\n",
    "    return ((x/M)**4*L0/(4*np.pi*Sg*(x/M)**1.14*R**2))**(1/4)"
   ]
  },
  {
   "cell_type": "code",
   "execution_count": 16,
   "metadata": {},
   "outputs": [
    {
     "data": {
      "image/png": "[encoded data removed]",
      "text/plain": [
       "<Figure size 432x288 with 1 Axes>"
      ]
     },
     "metadata": {
      "needs_background": "light"
     },
     "output_type": "display_data"
    }
   ],
   "source": [
    "m=[1.1*M,1.2*M,1.5*M,2*M]\n",
    "\n",
    "l=[L(x) for x in m]\n",
    "t=[T(y) for y in m]\n",
    "\n",
    "#plt.plot(t, l, alpha=0.5, c='orange')\n",
    "plt.scatter(t, l)\n",
    "\n",
    "plt.grid()\n",
    "plt.ylabel('$L/W$', fontsize=14)\n",
    "plt.xlabel('$T/K$', fontsize=14)\n",
    "plt.show()"
   ]
  },
  {
   "cell_type": "code",
   "execution_count": 24,
   "metadata": {},
   "outputs": [
    {
     "data": {
      "image/png": "[encoded data removed]",
      "text/plain": [
       "<Figure size 432x288 with 1 Axes>"
      ]
     },
     "metadata": {
      "needs_background": "light"
     },
     "output_type": "display_data"
    }
   ],
   "source": [
    "m0=np.linspace(1,2,50)*M\n",
    "\n",
    "l0=[L(x) for x in m0]\n",
    "t0=[T(y) for y in m0]\n",
    "\n",
    "plt.plot(t0, l0, alpha=1, c='k')\n",
    "plt.scatter(t0, l0, c='r', lw=0.5,s=20)\n",
    "plt.scatter(t, l, s=30)\n",
    "#poly = np.polyfit(t0, l0, 3)\n",
    "#plt.plot(t0, np.polyval(poly, t0), label='{}'.format(np.poly1d(poly, t0)))\n",
    "\n",
    "plt.grid()\n",
    "plt.ylabel('$L/W$', fontsize=14)\n",
    "plt.xlabel('$T/K$', fontsize=14)\n",
    "#plt.legend(frameon=False)\n",
    "plt.show()"
   ]
  },
  {
   "cell_type": "code",
   "execution_count": null,
   "metadata": {},
   "outputs": [],
   "source": []
  }
 ],
 "metadata": {
  "kernelspec": {
   "display_name": "Python 3",
   "language": "python",
   "name": "python3"
  },
  "language_info": {
   "codemirror_mode": {
    "name": "ipython",
    "version": 3
   },
   "file_extension": ".py",
   "mimetype": "text/x-python",
   "name": "python",
   "nbconvert_exporter": "python",
   "pygments_lexer": "ipython3",
   "version": "3.7.6"
  }
 },
 "nbformat": 4,
 "nbformat_minor": 4
}
