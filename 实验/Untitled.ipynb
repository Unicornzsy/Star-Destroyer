{
 "cells": [
  {
   "cell_type": "code",
   "execution_count": 3,
   "metadata": {},
   "outputs": [
    {
     "name": "stdout",
     "output_type": "stream",
     "text": [
      "Collecting pyrealsense2\n",
      "  Downloading pyrealsense2-2.53.1.4623-cp37-cp37m-win_amd64.whl (12.9 MB)\n",
      "Installing collected packages: pyrealsense2\n",
      "Successfully installed pyrealsense2-2.53.1.4623\n"
     ]
    }
   ],
   "source": [
    "!pip install pyrealsense2"
   ]
  },
  {
   "cell_type": "code",
   "execution_count": 4,
   "metadata": {},
   "outputs": [],
   "source": [
    "import pyrealsense2 as rs"
   ]
  },
  {
   "cell_type": "code",
   "execution_count": 6,
   "metadata": {},
   "outputs": [
    {
     "name": "stdout",
     "output_type": "stream",
     "text": [
      "Found device:  Intel RealSense USB2   ffffffffffff\n"
     ]
    }
   ],
   "source": [
    "ctx = rs.context()\n",
    "if len(ctx.devices) > 0:\n",
    "    for d in ctx.devices:\n",
    "        print('Found device: ',\n",
    "              d.get_info(rs.camera_info.name), ' ',\n",
    "              d.get_info(rs.camera_info.serial_number))\n",
    "else:\n",
    "    print(\"No Intel Device connected\")\n",
    "\n",
    "# 接了两个D435摄像头，显示结果：\n",
    "# Found device:  Intel RealSense D435   827312071726\n",
    "# Found device:  Intel RealSense D435   838212074152\n"
   ]
  },
  {
   "cell_type": "code",
   "execution_count": null,
   "metadata": {},
   "outputs": [],
   "source": []
  }
 ],
 "metadata": {
  "kernelspec": {
   "display_name": "Python 3",
   "language": "python",
   "name": "python3"
  },
  "language_info": {
   "codemirror_mode": {
    "name": "ipython",
    "version": 3
   },
   "file_extension": ".py",
   "mimetype": "text/x-python",
   "name": "python",
   "nbconvert_exporter": "python",
   "pygments_lexer": "ipython3",
   "version": "3.7.6"
  }
 },
 "nbformat": 4,
 "nbformat_minor": 4
}
