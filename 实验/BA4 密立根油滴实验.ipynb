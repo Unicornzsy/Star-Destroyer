{
 "cells": [
  {
   "cell_type": "code",
   "execution_count": 1,
   "metadata": {
    "scrolled": true
   },
   "outputs": [
    {
     "name": "stdout",
     "output_type": "stream",
     "text": [
      "Populating the interactive namespace from numpy and matplotlib\n"
     ]
    }
   ],
   "source": [
    "%pylab inline"
   ]
  },
  {
   "cell_type": "code",
   "execution_count": 126,
   "metadata": {},
   "outputs": [],
   "source": [
    "from IPython.display import Latex"
   ]
  },
  {
   "cell_type": "markdown",
   "metadata": {},
   "source": [
    "## 平衡法"
   ]
  },
  {
   "cell_type": "code",
   "execution_count": 34,
   "metadata": {},
   "outputs": [],
   "source": [
    "def equilibrium(x):\n",
    "    a = (9*1.83e-5*1.6e-3/(2*9.789*981*x[0]))**(1/2)\n",
    "    q = 18*np.pi/(2*981*9.789)**(1/2)*(1.83e-5*1.6e-3/(x[0]*(1+(0.00823/(101325*a)))))**(3/2)*5e-3/x[1]\n",
    "    return q"
   ]
  },
  {
   "cell_type": "code",
   "execution_count": 105,
   "metadata": {
    "scrolled": true
   },
   "outputs": [
    {
     "name": "stdout",
     "output_type": "stream",
     "text": [
      "第1颗油滴的5次平均电荷为 1.658e-19 C\n",
      "第2颗油滴的5次平均电荷为 3.899e-19 C\n",
      "第3颗油滴的5次平均电荷为 2.777e-19 C\n",
      "第4颗油滴的5次平均电荷为 2.984e-19 C\n",
      "第5颗油滴的5次平均电荷为 3.603e-19 C\n"
     ]
    }
   ],
   "source": [
    "M = list()\n",
    "for i,m in enumerate([[29.22, 330], [23.04, 204], [27.89, 212], [19.09, 358], [21.18, 252]]):\n",
    "    M.append(equilibrium(m))\n",
    "    print('第{}颗油滴的5次平均电荷为 {:.3e} C'.format(i+1, M[i]))"
   ]
  },
  {
   "cell_type": "code",
   "execution_count": 165,
   "metadata": {},
   "outputs": [
    {
     "data": {
      "text/latex": [
       "$均值为(1.658\\pm 0.227)e-19 C$"
      ],
      "text/plain": [
       "<IPython.core.display.Latex object>"
      ]
     },
     "execution_count": 165,
     "metadata": {},
     "output_type": "execute_result"
    }
   ],
   "source": [
    "q = list()\n",
    "for m in M:\n",
    "    q.append(m/round(m/1.602e-19))\n",
    "p = mean(q)\n",
    "e = 0\n",
    "#print(q)\n",
    "for m in q:\n",
    "    e += (m-p)**2\n",
    "a1, a2 = p*1e19, sqrt(e/4)*1e19\n",
    "Latex(r'$均值为({:.3f}\\pm {:.3f})e-19 C$'.format(a1, a2))"
   ]
  },
  {
   "cell_type": "code",
   "execution_count": 87,
   "metadata": {
    "scrolled": true
   },
   "outputs": [
    {
     "data": {
      "image/png": "[encoded data removed]",
      "text/plain": [
       "<Figure size 432x288 with 1 Axes>"
      ]
     },
     "metadata": {
      "needs_background": "light"
     },
     "output_type": "display_data"
    }
   ],
   "source": [
    "x, y = list(), list()\n",
    "for m in M:\n",
    "    x.append(round(m/1.60e-19))\n",
    "    y.append(m/round(m/1.60e-19)) \n",
    "    \n",
    "    \n",
    "plt.scatter(x, M)\n",
    "plt.plot(x, M)\n",
    "\n",
    "plt.ylim(-1e-19,5e-19)\n",
    "plt.show()"
   ]
  },
  {
   "cell_type": "code",
   "execution_count": null,
   "metadata": {},
   "outputs": [],
   "source": []
  },
  {
   "cell_type": "markdown",
   "metadata": {},
   "source": [
    "## 非平衡法"
   ]
  },
  {
   "cell_type": "code",
   "execution_count": 59,
   "metadata": {},
   "outputs": [],
   "source": [
    "def nonequilibrium(x):\n",
    "    a = (9*1.83e-5*1.6e-3/(2*9.789*981*x[0]))**(1/2)\n",
    "    q1 = 18*np.pi/(2*981*9.789)**(1/2)*(1.83e-5*1.6e-3/(1+(0.00823/(101325*a))))**(3/2)\n",
    "    q2 = q1*5e-3/x[1]\n",
    "    q = q1*5e-3/x[3]*(1/x[2]+1/x[0])*(1/x[0])**(1/2)\n",
    "    return q"
   ]
  },
  {
   "cell_type": "code",
   "execution_count": 150,
   "metadata": {},
   "outputs": [
    {
     "name": "stdout",
     "output_type": "stream",
     "text": [
      "第一颗油滴\n",
      "第1次油滴的电荷为 3.111e-19 C\n",
      "第2次油滴的电荷为 2.892e-19 C\n",
      "第3次油滴的电荷为 3.171e-19 C\n",
      "第4次油滴的电荷为 3.217e-19 C\n",
      "第5次油滴的电荷为 2.948e-19 C\n"
     ]
    }
   ],
   "source": [
    "Q1 = list()\n",
    "print('第一颗油滴')\n",
    "for i,m in enumerate([[25.18, 257, 28.76, 417], [26.80, 248, 23.79, 461], [25.49, 246, 22.26, 459], [24.46, 243, 23.84, 456], [26.55, 242, 23.97, 455]]):\n",
    "    Q1.append(nonequilibrium(m))\n",
    "    print('第{}次油滴的电荷为 {:.3e} C'.format(i+1,Q1[i]))"
   ]
  },
  {
   "cell_type": "code",
   "execution_count": 162,
   "metadata": {},
   "outputs": [
    {
     "data": {
      "text/latex": [
       "$均值为(1.534\\pm 0.266)e-19 C$"
      ],
      "text/plain": [
       "<IPython.core.display.Latex object>"
      ]
     },
     "execution_count": 162,
     "metadata": {},
     "output_type": "execute_result"
    }
   ],
   "source": [
    "q1 = list()\n",
    "for m in Q1:\n",
    "    q1.append(m/round(m/1.602e-19))\n",
    "p = mean(q1)\n",
    "e = 0\n",
    "#print(q1)\n",
    "for m in q:\n",
    "    e += (m-p)**2\n",
    "a1, a2 = p*1e19, sqrt(e/4)*1e19\n",
    "Latex(r'$均值为({:.3f}\\pm {:.3f})e-19 C$'.format(a1, a2))\n"
   ]
  },
  {
   "cell_type": "code",
   "execution_count": null,
   "metadata": {},
   "outputs": [],
   "source": []
  },
  {
   "cell_type": "code",
   "execution_count": 151,
   "metadata": {},
   "outputs": [
    {
     "name": "stdout",
     "output_type": "stream",
     "text": [
      "第二颗油滴\n",
      "第1次油滴的电荷为 4.918e-19 C\n",
      "第2次油滴的电荷为 4.170e-19 C\n",
      "第3次油滴的电荷为 4.386e-19 C\n",
      "第4次油滴的电荷为 4.541e-19 C\n",
      "第5次油滴的电荷为 3.608e-19 C\n"
     ]
    }
   ],
   "source": [
    "Q2 = list()\n",
    "print('第二颗油滴')\n",
    "for i,m in enumerate([[17.70, 247, 20.08, 460], [20.36, 238, 21.50, 451], [19.48, 238, 21.38, 451], [18.36, 238, 22.85, 451], [21.87, 240, 24.48, 453]]):\n",
    "    Q2.append(nonequilibrium(m))\n",
    "    print('第{}次油滴的电荷为 {:.3e} C'.format(i+1, Q2[i]))"
   ]
  },
  {
   "cell_type": "code",
   "execution_count": 163,
   "metadata": {},
   "outputs": [
    {
     "data": {
      "text/latex": [
       "$均值为(1.562\\pm 0.251)e-19 C$"
      ],
      "text/plain": [
       "<IPython.core.display.Latex object>"
      ]
     },
     "execution_count": 163,
     "metadata": {},
     "output_type": "execute_result"
    }
   ],
   "source": [
    "q2 = list()\n",
    "for m in Q2:\n",
    "    q2.append(m/round(m/1.602e-19))\n",
    "p=mean(q2)\n",
    "e = 0\n",
    "#print(q2)\n",
    "for m in q:\n",
    "    e += (m-p)**2\n",
    "a1, a2 = p*1e19, sqrt(e/4)*1e19\n",
    "Latex(r'$均值为({:.3f}\\pm {:.3f})e-19 C$'.format(a1, a2))"
   ]
  },
  {
   "cell_type": "code",
   "execution_count": null,
   "metadata": {},
   "outputs": [],
   "source": []
  }
 ],
 "metadata": {
  "kernelspec": {
   "display_name": "Python 3",
   "language": "python",
   "name": "python3"
  },
  "language_info": {
   "codemirror_mode": {
    "name": "ipython",
    "version": 3
   },
   "file_extension": ".py",
   "mimetype": "text/x-python",
   "name": "python",
   "nbconvert_exporter": "python",
   "pygments_lexer": "ipython3",
   "version": "3.7.6"
  }
 },
 "nbformat": 4,
 "nbformat_minor": 4
}
