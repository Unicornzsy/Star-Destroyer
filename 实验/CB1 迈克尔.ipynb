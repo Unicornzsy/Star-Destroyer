{
 "cells": [
  {
   "cell_type": "code",
   "execution_count": 1,
   "metadata": {},
   "outputs": [
    {
     "name": "stdout",
     "output_type": "stream",
     "text": [
      "Populating the interactive namespace from numpy and matplotlib\n"
     ]
    }
   ],
   "source": [
    "%pylab inline"
   ]
  },
  {
   "cell_type": "code",
   "execution_count": 2,
   "metadata": {},
   "outputs": [],
   "source": [
    "def n(t, theta):\n",
    "    N, lam = 10,650e-9\n",
    "    return t*(np.sin(theta))**2/(2*t*(1-np.cos(theta)-N*lam))+(1-cos(theta)-N*lam/(2*t))    "
   ]
  },
  {
   "cell_type": "code",
   "execution_count": 4,
   "metadata": {},
   "outputs": [
    {
     "name": "stdout",
     "output_type": "stream",
     "text": [
      "The first test(θ=20.5°):1.519\n",
      "The second test(θ=10.3°):1.799\n",
      "The third test(θ=5.3°):1.202\n",
      "The fourth test(θ=12.2°):1.012\n",
      "The fifth test(θ=17.8°):1.230\n"
     ]
    }
   ],
   "source": [
    "print(\"The first test(θ=20.5°):{:.3f}\\nThe second test(θ=10.3°):{:.3f}\\nThe third test(θ=5.3°):{:.3f}\\nThe fourth test(θ=12.2°):{:.3f}\\nThe fifth test(θ=17.8°):{:.3f}\".format(n(0.155e-3, 20.5),n(0.155e-3, 10.3),n(0.155e-3, 5.3),n(0.155e-3, 12.2),n(0.155e-3, 17.8)))"
   ]
  },
  {
   "cell_type": "code",
   "execution_count": 16,
   "metadata": {},
   "outputs": [],
   "source": []
  },
  {
   "cell_type": "code",
   "execution_count": 89,
   "metadata": {},
   "outputs": [
    {
     "data": {
      "image/png": "[encoded data removed]",
      "text/plain": [
       "<Figure size 432x288 with 1 Axes>"
      ]
     },
     "metadata": {
      "needs_background": "light"
     },
     "output_type": "display_data"
    }
   ],
   "source": [
    "x0 = np.linspace(0, 30, 1000)\n",
    "plot(x0, n(0.155e-3,x0))\n",
    "#plt.scatter(x0[a], q[a], c = 'k', )\n",
    "\n",
    "plt.xlabel(r'$\\theta/{}^{\\circ}$', fontsize = 14)\n",
    "plt.ylabel(r'n', fontsize = 14)\n",
    "\n",
    "plt.grid()\n",
    "plt.show()"
   ]
  },
  {
   "cell_type": "code",
   "execution_count": 79,
   "metadata": {},
   "outputs": [],
   "source": [
    "q = n(0.155e-3,x0);\n",
    "a = [1.50<q]\n",
    "b = [q<1.52]"
   ]
  },
  {
   "cell_type": "code",
   "execution_count": 87,
   "metadata": {},
   "outputs": [
    {
     "ename": "SyntaxError",
     "evalue": "invalid syntax (<ipython-input-87-ea59b234e8cb>, line 1)",
     "output_type": "error",
     "traceback": [
      "\u001b[1;36m  File \u001b[1;32m\"<ipython-input-87-ea59b234e8cb>\"\u001b[1;36m, line \u001b[1;32m1\u001b[0m\n\u001b[1;33m    lambda x : x if q<1.52 && q>1.5;\u001b[0m\n\u001b[1;37m                            ^\u001b[0m\n\u001b[1;31mSyntaxError\u001b[0m\u001b[1;31m:\u001b[0m invalid syntax\n"
     ]
    }
   ],
   "source": [
    "lambda x : x if q<1.52 && q>1.5;"
   ]
  },
  {
   "cell_type": "code",
   "execution_count": 81,
   "metadata": {},
   "outputs": [
    {
     "data": {
      "text/plain": [
       "list"
      ]
     },
     "execution_count": 81,
     "metadata": {},
     "output_type": "execute_result"
    }
   ],
   "source": [
    "type(a)"
   ]
  },
  {
   "cell_type": "code",
   "execution_count": null,
   "metadata": {},
   "outputs": [],
   "source": []
  }
 ],
 "metadata": {
  "kernelspec": {
   "display_name": "Python 3",
   "language": "python",
   "name": "python3"
  },
  "language_info": {
   "codemirror_mode": {
    "name": "ipython",
    "version": 3
   },
   "file_extension": ".py",
   "mimetype": "text/x-python",
   "name": "python",
   "nbconvert_exporter": "python",
   "pygments_lexer": "ipython3",
   "version": "3.7.6"
  }
 },
 "nbformat": 4,
 "nbformat_minor": 4
}
